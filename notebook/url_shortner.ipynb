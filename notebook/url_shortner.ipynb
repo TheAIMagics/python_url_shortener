{
 "cells": [
  {
   "cell_type": "code",
   "execution_count": 2,
   "metadata": {},
   "outputs": [
    {
     "name": "stdout",
     "output_type": "stream",
     "text": [
      "Requirement already satisfied: fastapi==0.75.0 in c:\\users\\thaku\\onedrive\\desktop\\python_url_shortener\\env\\lib\\site-packages (0.75.0)\n",
      "Requirement already satisfied: uvicorn==0.17.6 in c:\\users\\thaku\\onedrive\\desktop\\python_url_shortener\\env\\lib\\site-packages (0.17.6)\n",
      "Requirement already satisfied: pydantic!=1.7,!=1.7.1,!=1.7.2,!=1.7.3,!=1.8,!=1.8.1,<2.0.0,>=1.6.2 in c:\\users\\thaku\\onedrive\\desktop\\python_url_shortener\\env\\lib\\site-packages (from fastapi==0.75.0) (1.10.1)\n",
      "Requirement already satisfied: starlette==0.17.1 in c:\\users\\thaku\\onedrive\\desktop\\python_url_shortener\\env\\lib\\site-packages (from fastapi==0.75.0) (0.17.1)\n",
      "Requirement already satisfied: click>=7.0 in c:\\users\\thaku\\onedrive\\desktop\\python_url_shortener\\env\\lib\\site-packages (from uvicorn==0.17.6) (8.1.3)\n",
      "Requirement already satisfied: asgiref>=3.4.0 in c:\\users\\thaku\\onedrive\\desktop\\python_url_shortener\\env\\lib\\site-packages (from uvicorn==0.17.6) (3.5.2)\n",
      "Requirement already satisfied: h11>=0.8 in c:\\users\\thaku\\onedrive\\desktop\\python_url_shortener\\env\\lib\\site-packages (from uvicorn==0.17.6) (0.13.0)\n",
      "Requirement already satisfied: anyio<4,>=3.0.0 in c:\\users\\thaku\\onedrive\\desktop\\python_url_shortener\\env\\lib\\site-packages (from starlette==0.17.1->fastapi==0.75.0) (3.6.1)\n",
      "Requirement already satisfied: colorama in c:\\users\\thaku\\onedrive\\desktop\\python_url_shortener\\env\\lib\\site-packages (from click>=7.0->uvicorn==0.17.6) (0.4.5)\n",
      "Requirement already satisfied: typing-extensions>=4.1.0 in c:\\users\\thaku\\onedrive\\desktop\\python_url_shortener\\env\\lib\\site-packages (from pydantic!=1.7,!=1.7.1,!=1.7.2,!=1.7.3,!=1.8,!=1.8.1,<2.0.0,>=1.6.2->fastapi==0.75.0) (4.3.0)\n",
      "Requirement already satisfied: sniffio>=1.1 in c:\\users\\thaku\\onedrive\\desktop\\python_url_shortener\\env\\lib\\site-packages (from anyio<4,>=3.0.0->starlette==0.17.1->fastapi==0.75.0) (1.2.0)\n",
      "Requirement already satisfied: idna>=2.8 in c:\\users\\thaku\\onedrive\\desktop\\python_url_shortener\\env\\lib\\site-packages (from anyio<4,>=3.0.0->starlette==0.17.1->fastapi==0.75.0) (3.3)\n"
     ]
    }
   ],
   "source": [
    "!pip install fastapi==0.75.0 uvicorn==0.17.6"
   ]
  },
  {
   "cell_type": "code",
   "execution_count": 3,
   "metadata": {},
   "outputs": [
    {
     "name": "stdout",
     "output_type": "stream",
     "text": [
      "Requirement already satisfied: sqlalchemy==1.4.32 in c:\\users\\thaku\\onedrive\\desktop\\python_url_shortener\\env\\lib\\site-packages (1.4.32)\n",
      "Requirement already satisfied: greenlet!=0.4.17 in c:\\users\\thaku\\onedrive\\desktop\\python_url_shortener\\env\\lib\\site-packages (from sqlalchemy==1.4.32) (1.1.3)\n"
     ]
    }
   ],
   "source": [
    "!python -m pip install sqlalchemy==1.4.32"
   ]
  },
  {
   "cell_type": "code",
   "execution_count": 4,
   "metadata": {},
   "outputs": [
    {
     "name": "stdout",
     "output_type": "stream",
     "text": [
      "Requirement already satisfied: python-dotenv==0.19.2 in c:\\users\\thaku\\onedrive\\desktop\\python_url_shortener\\env\\lib\\site-packages (0.19.2)\n"
     ]
    }
   ],
   "source": [
    "!python -m pip install python-dotenv==0.19.2"
   ]
  },
  {
   "cell_type": "code",
   "execution_count": 5,
   "metadata": {},
   "outputs": [
    {
     "name": "stdout",
     "output_type": "stream",
     "text": [
      "Requirement already satisfied: validators==0.18.2 in c:\\users\\thaku\\onedrive\\desktop\\python_url_shortener\\env\\lib\\site-packages (0.18.2)\n",
      "Requirement already satisfied: decorator>=3.4.0 in c:\\users\\thaku\\onedrive\\desktop\\python_url_shortener\\env\\lib\\site-packages (from validators==0.18.2) (5.1.1)\n",
      "Requirement already satisfied: six>=1.4.0 in c:\\users\\thaku\\onedrive\\desktop\\python_url_shortener\\env\\lib\\site-packages (from validators==0.18.2) (1.16.0)\n"
     ]
    }
   ],
   "source": [
    "!python -m pip install validators==0.18.2"
   ]
  },
  {
   "cell_type": "code",
   "execution_count": 7,
   "metadata": {},
   "outputs": [],
   "source": [
    "# Define Environment Variables\n",
    "from functools import lru_cache\n",
    "from pydantic import BaseSettings\n",
    "\n",
    "class Settings(BaseSettings):\n",
    "    env_name: str = \"Local\"\n",
    "    base_url: str = \"http://localhost:8000\"\n",
    "    db_url: str = \"sqlite:///./shortener.db\"\n",
    "\n",
    "@lru_cache\n",
    "def get_settings() -> Settings:\n",
    "    settings = Settings()\n",
    "    print(f\"Loading settings for: {settings.env_name}\")\n",
    "    return settings"
   ]
  },
  {
   "cell_type": "code",
   "execution_count": 8,
   "metadata": {},
   "outputs": [],
   "source": [
    "## Create  FastAPI App\n",
    "\n",
    "from fastapi import FastAPI\n",
    "\n",
    "app = FastAPI()\n",
    "\n",
    "@app.get(\"/\")\n",
    "def read_root():\n",
    "    return \"Welcome to the URL shortener API :)\""
   ]
  },
  {
   "cell_type": "markdown",
   "metadata": {},
   "source": [
    "#### To launch  Swagger UI \n",
    "- check it out in your browser at http://127.0.0.1:8000/docs "
   ]
  },
  {
   "cell_type": "code",
   "execution_count": 9,
   "metadata": {},
   "outputs": [],
   "source": [
    "from pydantic import BaseModel\n",
    "\n",
    "class URLBase(BaseModel):\n",
    "    target_url: str\n",
    "\n",
    "class URL(URLBase):\n",
    "    is_active: bool\n",
    "    clicks: int\n",
    "\n",
    "    class Config:\n",
    "        orm_mode = True\n",
    "\n",
    "class URLInfo(URL):\n",
    "    url: str\n",
    "    admin_url: str"
   ]
  },
  {
   "cell_type": "code",
   "execution_count": 12,
   "metadata": {},
   "outputs": [],
   "source": [
    "import validators\n",
    "from fastapi import FastAPI, HTTPException\n",
    "\n",
    "def raise_bad_request(message):\n",
    "    raise HTTPException(status_code=400, detail=message)\n",
    "\n",
    "@app.post(\"/url\")\n",
    "def create_url(url: URLBase):\n",
    "    if not validators.url(url.target_url):\n",
    "        raise_bad_request(message=\"Your provided URL is not valid\")\n",
    "    return f\"TODO: Create database entry for: {url.target_url}\""
   ]
  },
  {
   "cell_type": "code",
   "execution_count": 13,
   "metadata": {},
   "outputs": [
    {
     "name": "stdout",
     "output_type": "stream",
     "text": [
      "Loading settings for: Development\n"
     ]
    }
   ],
   "source": [
    "##Prepare Your SQLite Database\n",
    "from sqlalchemy import create_engine\n",
    "from sqlalchemy.ext.declarative import declarative_base\n",
    "from sqlalchemy.orm import sessionmaker\n",
    "\n",
    "\n",
    "engine = create_engine(\n",
    "    get_settings().db_url, connect_args={\"check_same_thread\": False}\n",
    ")\n",
    "SessionLocal = sessionmaker(\n",
    "    autocommit=False, autoflush=False, bind=engine\n",
    ")\n",
    "Base = declarative_base()"
   ]
  },
  {
   "cell_type": "code",
   "execution_count": 14,
   "metadata": {},
   "outputs": [],
   "source": [
    "# specifying how our data should be stored in the database\n",
    "from sqlalchemy import Boolean, Column, Integer, String\n",
    "\n",
    "class URL(Base):\n",
    "    __tablename__ = \"urls\"\n",
    "\n",
    "    id = Column(Integer, primary_key=True)\n",
    "    key = Column(String, unique=True, index=True)\n",
    "    secret_key = Column(String, unique=True, index=True)\n",
    "    target_url = Column(String, index=True)\n",
    "    is_active = Column(Boolean, default=True)\n",
    "    clicks = Column(Integer, default=0)"
   ]
  }
 ],
 "metadata": {
  "kernelspec": {
   "display_name": "Python 3.8.13 (conda)",
   "language": "python",
   "name": "python3"
  },
  "language_info": {
   "codemirror_mode": {
    "name": "ipython",
    "version": 3
   },
   "file_extension": ".py",
   "mimetype": "text/x-python",
   "name": "python",
   "nbconvert_exporter": "python",
   "pygments_lexer": "ipython3",
   "version": "3.8.13"
  },
  "orig_nbformat": 4,
  "vscode": {
   "interpreter": {
    "hash": "946fbc47df838f41c8bf778a10fd2ba9cd51e32ed6081bb1d59aeedd611e3ae8"
   }
  }
 },
 "nbformat": 4,
 "nbformat_minor": 2
}
